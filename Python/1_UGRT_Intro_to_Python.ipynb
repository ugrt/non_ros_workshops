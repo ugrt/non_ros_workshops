{
 "cells": [
  {
   "cell_type": "markdown",
   "source": [
    "# Introduction to Python\r\n",
    "Python is a very powerful language that is used in various applications such as \r\n",
    "* Machine Learning\r\n",
    "* Web Applications\r\n",
    "* Data Preprocessing\r\n",
    "* Robotics (Especially with ROS) \r\n",
    "This tutorial will cover the basics of python in the following list '\r\n",
    "1. Python structure\r\n",
    "2. Variables\r\n",
    "3. Basic Types\r\n",
    "4. If Statements and Boolean Logic\r\n",
    "5. Control Structures\r\n",
    "6. Packages\r\n",
    "7. Classes"
   ],
   "metadata": {}
  },
  {
   "cell_type": "markdown",
   "source": [
    "## What is Python\r\n",
    "Python is an interpreted programing language that is meant to be extremely easy to program in.\r\n",
    "The creators did this by basing the syntax(How you interface with the language) off of pseudo code.\r\n",
    "Psudo is very readable human code that uses english for most of the syntax. \r\n",
    "For example"
   ],
   "metadata": {}
  },
  {
   "cell_type": "code",
   "execution_count": null,
   "source": [
    "var = 1\r\n",
    "if var is 1\r\n",
    "    print var"
   ],
   "outputs": [],
   "metadata": {}
  },
  {
   "cell_type": "markdown",
   "source": [
    "in python it could be"
   ],
   "metadata": {}
  },
  {
   "cell_type": "code",
   "execution_count": null,
   "source": [
    "var = 1\r\n",
    "if var is 1:\r\n",
    "    print(var)"
   ],
   "outputs": [],
   "metadata": {}
  },
  {
   "cell_type": "markdown",
   "source": [
    "this makes extremely easy to build an application within minutes or hours verses the time that it would take to write something up in C\n",
    "\n",
    "## What is an interpreted Programming Language\n",
    "An interpreted programming means that the line of code is read then executed.\n",
    "common interpreted programming languages are \n",
    "* Matlab\n",
    "* R\n",
    "* Javascript\n",
    "* Java*\n",
    "\n",
    "This gives it a great amount of flexibility in what can be done like variables\n",
    "\n",
    "*Java is in a weird location as it is compiled, but then interprets that output to the operating system. This just means that it is much faster than other interpreted programing languages"
   ],
   "metadata": {}
  },
  {
   "cell_type": "markdown",
   "source": [
    "# Variables\n",
    "\n",
    "As you have learned in your programming classes variables store data. \n",
    "Python does not do any varible \"typing\", which mean that you don't have to specify what type of data you are storing there before running you can do that after.\n",
    "This may be different for for some varibles in external python packages\n",
    "This also works for the print statements, "
   ],
   "metadata": {}
  },
  {
   "cell_type": "code",
   "execution_count": null,
   "source": [
    "var = 3\r\n",
    "print(var)\r\n",
    "var = float(var)\r\n",
    "print(var)\r\n",
    "var = (1, 2, 3)\r\n",
    "print(var)\r\n",
    "var = [\"Hello World\", \r\n",
    "        \"It is a wonderful day isn't it\", \r\n",
    "        \"why yes it is\"]\r\n",
    "print(var)\r\n",
    "var = [\"Hello World\", 2019.0, 2021, 2022/2]\r\n",
    "print(var)\r\n",
    "var = {\"Hello\" : 5, \"UGRT\": 4}\r\n",
    "print(var)\r\n",
    "var = range(5)\r\n",
    "print(var)"
   ],
   "outputs": [],
   "metadata": {}
  },
  {
   "cell_type": "markdown",
   "source": [
    "# Varible Types\r\n",
    "As we can see in the previous example, we have a single varible store multiple different types of varibles, but what are the different types\r\n",
    "\r\n",
    "# Integer (int)\r\n",
    "This is the basic interger type, and store whole numbers with little error."
   ],
   "metadata": {}
  },
  {
   "cell_type": "code",
   "execution_count": null,
   "source": [
    "int_var_1 = 10 \r\n",
    "int_var_2 = 20"
   ],
   "outputs": [],
   "metadata": {}
  },
  {
   "cell_type": "markdown",
   "source": [
    "You can convert any varible to an interger using an int function as seen below"
   ],
   "metadata": {}
  },
  {
   "cell_type": "code",
   "execution_count": null,
   "source": [
    "float_var = 33.0\r\n",
    "print(type(float_var))\r\n",
    "int_var = int(float_var)\r\n",
    "print(type(int_var))\r\n",
    "print(int_var)\r\n",
    "str_var = \"123\"\r\n",
    "print(type(int(str_var)))\r\n",
    "print((1 + 2))\r\n",
    "print((1 - 2))\r\n",
    "print((1 * 2))\r\n",
    "print((3//2))\r\n",
    "print((3%2))"
   ],
   "outputs": [],
   "metadata": {}
  },
  {
   "cell_type": "markdown",
   "source": [
    "## Floats\r\n",
    "Floats are the way that python represents decimals numbers.\r\n",
    "You can \"make\" floats by dividing by a number or casting a varible to become that variable. \r\n",
    "for our context they are good enough though"
   ],
   "metadata": {}
  },
  {
   "cell_type": "code",
   "execution_count": null,
   "source": [
    "a = 2.0 * 2 / 2 + 1 - 1\r\n",
    "b = 2.0\r\n",
    "print(type(a))\r\n",
    "print(a == b)"
   ],
   "outputs": [],
   "metadata": {}
  },
  {
   "cell_type": "markdown",
   "source": [
    "## Lists\r\n",
    "\r\n",
    "Lists are a ways of storing data, and can contain any datatype within each index.\r\n",
    "Lists are initalized with square brakets and commas separating each value. \r\n",
    "Indexing is the process of getting a partiular varible with-in the variable like so.\r\n",
    "Since lists are used so much, there is quite a few built in methods to do various operations on the list"
   ],
   "metadata": {}
  },
  {
   "cell_type": "code",
   "execution_count": null,
   "source": [
    "test_list = [1, 2.0, \"3\"]\r\n",
    "print(len(test_list))\r\n",
    "print(test_list[0])\r\n",
    "print(test_list[-1])\r\n",
    "print(test_list[:])\r\n",
    "test_list.reverse()\r\n",
    "print(test_list)\r\n",
    "test_list.reverse()\r\n",
    "test_list.append([4])\r\n",
    "print(test_list)\r\n",
    "test_list[3].pop(0)\r\n",
    "print(test_list)"
   ],
   "outputs": [],
   "metadata": {}
  },
  {
   "cell_type": "markdown",
   "source": [
    "## Strings\r\n",
    "Strings are what holds multiple characters in a varible, and makes it easier to communicate with the user.\r\n",
    "because strings are so often used, there are features that are added to make it easier to use like .split, .capitalize .strip .isnumeric .find.\r\n",
    "It can also be indexed like a list such that you can bet other characters"
   ],
   "metadata": {}
  },
  {
   "cell_type": "code",
   "execution_count": null,
   "source": [
    "str_var = \"Hello World\"\r\n",
    "print(str_var[0])\r\n",
    "print(str_var.split())\r\n",
    "print(str_var.lower())\r\n",
    "print(str_var.replace(\"o\", \"0\"))"
   ],
   "outputs": [],
   "metadata": {}
  },
  {
   "cell_type": "markdown",
   "source": [
    "You can also concatenate (add) strings together use the plus operator"
   ],
   "metadata": {}
  },
  {
   "cell_type": "code",
   "execution_count": null,
   "source": [
    "hello_var = \"Hello\"\r\n",
    "world_var = \"World!\"\r\n",
    "print(hello_var + \" \" + world_var) "
   ],
   "outputs": [],
   "metadata": {}
  },
  {
   "cell_type": "markdown",
   "source": [
    "## Tuples\r\n",
    "\r\n",
    "Tuples are like lists, but have a fixed size like arrays, and are faster to index, and show up more often return statements.\r\n",
    "\r\n",
    "They can also be made by separating values by commas like the following"
   ],
   "metadata": {}
  },
  {
   "cell_type": "code",
   "execution_count": null,
   "source": [
    "tuple_var = 1, 2, 3.0, \"four\"\r\n",
    "print(tuple_var)\r\n",
    "print(tuple_var[1])"
   ],
   "outputs": [],
   "metadata": {}
  },
  {
   "cell_type": "markdown",
   "source": [
    "Tuples can also be used to initialize multiple variables on a single line like so"
   ],
   "metadata": {}
  },
  {
   "cell_type": "code",
   "execution_count": null,
   "source": [
    "a, b = 1, 2.0\r\n",
    "print(a)\r\n",
    "print(b)"
   ],
   "outputs": [],
   "metadata": {}
  },
  {
   "cell_type": "markdown",
   "source": [
    "# Operators\r\n",
    "using just varibles does not make Python a ver versatile languages, and so there are a bunch of branching and looping going on\r\n"
   ],
   "metadata": {}
  },
  {
   "cell_type": "markdown",
   "source": [
    "# If Statements\r\n",
    "If Statements are what decided the logic in the code and has the following format\r\n",
    "```Python\r\n",
    "    if \"statement\":\r\n",
    "        operations\r\n",
    "    elif \"statement\":\r\n",
    "        operation\r\n",
    "    else: \r\n",
    "        pass\r\n",
    "```\r\n",
    "\r\n",
    "before we continue on, we should learn abit more about boolean logic\r\n",
    "\r\n",
    "# Boolean Logic\r\n",
    "Python interpretation of Boolean logic is similar to C, but slightly different due to the structure of the code\r\n",
    "for example"
   ],
   "metadata": {}
  },
  {
   "cell_type": "code",
   "execution_count": null,
   "source": [
    "a, b, c, d = 1, 2, 3, 4\r\n",
    "print(a == a)\r\n",
    "print(a != b)\r\n",
    "print(a < b)\r\n",
    "print(a > b)\r\n",
    "print(a <= b)\r\n",
    "print(a >= b)\r\n",
    "print( a < b <= c)"
   ],
   "outputs": [],
   "metadata": {}
  },
  {
   "cell_type": "markdown",
   "source": [
    "The differences happen when we need to chain multiple booleans together or compare addresses\r\n",
    "This is done with the following keywords\r\n",
    "* not (C eq \"!\")\r\n",
    "* and (C eq \"&&\")\r\n",
    "* or  (C eq \"||\")"
   ],
   "metadata": {}
  },
  {
   "cell_type": "code",
   "execution_count": null,
   "source": [
    "a, b, c, d = 1, 2, 3, 4\r\n",
    "print( a < b and not d < c)\r\n",
    "print( a == b or b < c)"
   ],
   "outputs": [],
   "metadata": {}
  },
  {
   "cell_type": "markdown",
   "source": [
    "### Is\r\n",
    "\r\n",
    "is compares the address of the variable like so"
   ],
   "metadata": {}
  },
  {
   "cell_type": "code",
   "execution_count": null,
   "source": [
    "a = [1, 2, 3]\r\n",
    "b = a\r\n",
    "print(id(a))\r\n",
    "print(id(b))\r\n",
    "print(a is b)\r\n",
    "a.append(4)\r\n",
    "print(b)\r\n",
    "c = b.copy()\r\n",
    "print(id(c))\r\n",
    "print(c is a or c is b)"
   ],
   "outputs": [],
   "metadata": {}
  },
  {
   "cell_type": "markdown",
   "source": [
    "# For Loops \r\n",
    "Python being and OOP lanuage, means that its for loops is based off of a for each loop structure."
   ],
   "metadata": {}
  },
  {
   "cell_type": "code",
   "execution_count": null,
   "source": [
    "a = [1, 2.0, \"3\"]\r\n",
    "for item in a:\r\n",
    "    print(item)"
   ],
   "outputs": [],
   "metadata": {}
  },
  {
   "cell_type": "markdown",
   "source": [
    "if you want to use a counter you can use the range iterator, which iterates trough a range"
   ],
   "metadata": {}
  },
  {
   "cell_type": "code",
   "execution_count": null,
   "source": [
    "print(\"starting loop 1\")\r\n",
    "for i in range(3):\r\n",
    "    print(i)\r\n",
    "\r\n",
    "print(\"starting loop 2\")\r\n",
    "for i in range(2, 4):\r\n",
    "    print(i)\r\n",
    "\r\n",
    "print(\"starting loop 3\")\r\n",
    "for i in range(2, 6, 2):\r\n",
    "    print(i)"
   ],
   "outputs": [],
   "metadata": {}
  },
  {
   "cell_type": "markdown",
   "source": [
    "Custom Interators can me made within each class, but that is for another tutorial"
   ],
   "metadata": {}
  },
  {
   "cell_type": "markdown",
   "source": [
    "# While Loops\r\n",
    "While loops in Python are just a bit of code that runs until a certain condition is met.\r\n",
    "This process is used less in data science, but more in the activate sensing and waiting for user inputs."
   ],
   "metadata": {}
  },
  {
   "cell_type": "code",
   "execution_count": null,
   "source": [
    "i = 0\r\n",
    "while i < 3:\r\n",
    "    print(i)\r\n",
    "    i += 1"
   ],
   "outputs": [],
   "metadata": {}
  },
  {
   "cell_type": "markdown",
   "source": [
    "# Try Except(Catch) Statements\r\n",
    "This control structure runs the code and checks for any errors that are \"thrown\" during those bits of code.\r\n",
    "This is used if somthing generally goes wrong"
   ],
   "metadata": {}
  },
  {
   "cell_type": "code",
   "execution_count": null,
   "source": [
    "str_val = \"one\"\r\n",
    "int_val = 0\r\n",
    "try:\r\n",
    "    int_val = int(str_val)\r\n",
    "except:\r\n",
    "    print(\"Unable to convert value\")\r\n",
    "\r\n",
    "int_val = int(str_val)"
   ],
   "outputs": [],
   "metadata": {}
  },
  {
   "cell_type": "markdown",
   "source": [
    "Using the generic try catch statement catches all errors and interrupts(yuo, control+c as well)\r\n",
    "To make sure this does not happen try to use specific errors"
   ],
   "metadata": {}
  },
  {
   "cell_type": "code",
   "execution_count": null,
   "source": [
    "try:\r\n",
    "    int_val = int(str_val)\r\n",
    "except ValueError:\r\n",
    "    print(\"Unable to convert value\")\r\n",
    "\r\n",
    "try:\r\n",
    "    int_val = int(str_val)\r\n",
    "except FileNotFoundError:\r\n",
    "    print(\"Unable to convert value\")"
   ],
   "outputs": [],
   "metadata": {}
  },
  {
   "cell_type": "markdown",
   "source": [
    "# With as Statements\n",
    "This is used to either have a varible exist for a short period of time, or temporary assign a varible a different value"
   ],
   "metadata": {}
  },
  {
   "cell_type": "code",
   "execution_count": null,
   "source": [
    "# this section is supposed to error out\r\n",
    "\r\n",
    "a = [\"one\", \"two\", \"three\"]\r\n",
    "\r\n",
    "with open(\"temp_file.txt\", \"w\") as file:\r\n",
    "    file.write(\"Hello World!\")\r\n",
    "\r\n",
    "file.write(\"How is it going?\")"
   ],
   "outputs": [],
   "metadata": {}
  },
  {
   "cell_type": "markdown",
   "source": [
    "This can only be used on class type objects that either open files, or change other aspects of the code"
   ],
   "metadata": {}
  },
  {
   "cell_type": "markdown",
   "source": [
    "# Importing Package\r\n",
    "This very important in Python, as almost all work in python is done with packages.\r\n",
    "## What are Packages\r\n",
    "Packages are bits of code that are either written in Python or C. Common ones include \r\n",
    "* NumPy \r\n",
    "* Matplotlib \r\n",
    "* TensorFlow \r\n",
    "* PyTorch \r\n",
    "* OpenCV2\r\n",
    "* Pandas\r\n",
    "* Tkiner\r\n",
    "* Django\r\n",
    "* Requests\r\n",
    "* Rospy\r\n",
    "* SciPy\r\n",
    "* SciKit-Learn\r\n",
    "* math\r\n",
    "* random\r\n",
    "* os\r\n",
    "* sys\r\n",
    "* seaborn\r\n",
    "* sockets\r\n",
    "* pickle\r\n",
    "* csv\r\n",
    "* json\r\n",
    "* threading\r\n",
    "* asyncio\r\n",
    "* time\r\n",
    "\r\n",
    "and many many many more\r\n",
    "\r\n",
    "Most of the python packages above are not installed with your default python installation, however some are.\r\n",
    "We will be using the built in python packages for now"
   ],
   "metadata": {}
  },
  {
   "cell_type": "code",
   "execution_count": null,
   "source": [
    "try:\r\n",
    "    sqrt(4)\r\n",
    "except NameError:\r\n",
    "    pass\r\n",
    "\r\n",
    "import os\r\n",
    "from random import random\r\n",
    "from math import *\r\n",
    "from socket import gethostname as getIPAdress\r\n",
    "print(os.name)\r\n",
    "print(random())\r\n",
    "print(sqrt(4))\r\n",
    "print(getIPAdress())"
   ],
   "outputs": [],
   "metadata": {}
  },
  {
   "cell_type": "markdown",
   "source": [
    "This of this like the libraries that you import in C like stdio.h and stdlib.h and math.h\n",
    "The same process goes for importing functions from other files, but that is another topic for another time.\n",
    "Speaking of functions"
   ],
   "metadata": {}
  },
  {
   "cell_type": "markdown",
   "source": [
    "# Defining Functions\n",
    "Functions are as simple to make and call as for loops"
   ],
   "metadata": {}
  },
  {
   "cell_type": "code",
   "execution_count": null,
   "source": [
    "def printHelloWorld():\r\n",
    "    print(\"Hello World\")\r\n",
    "\r\n",
    "printHelloWorld()"
   ],
   "outputs": [],
   "metadata": {}
  },
  {
   "cell_type": "markdown",
   "source": [
    "Functions can return one or more variables as well"
   ],
   "metadata": {}
  },
  {
   "cell_type": "code",
   "execution_count": null,
   "source": [
    "def generateRandomNumber():\r\n",
    "    return random()\r\n",
    "\r\n",
    "print(generateRandomNumber())\r\n",
    "\r\n",
    "def generateMultipleRandomNumbers():\r\n",
    "    a = random()\r\n",
    "    b = random()\r\n",
    "    c = random()\r\n",
    "    return a, b, c\r\n",
    "\r\n",
    "print(generateMultipleRandomNumbers())\r\n",
    "print(a)"
   ],
   "outputs": [],
   "metadata": {}
  },
  {
   "cell_type": "markdown",
   "source": [
    "As seen above, variables declared within functions can only be seen within that function.\n",
    "functions can be given arguments by doing the following"
   ],
   "metadata": {}
  },
  {
   "cell_type": "code",
   "execution_count": null,
   "source": [
    "def double_value(value):\r\n",
    "    return 2*value\r\n",
    "\r\n",
    "def add_values(value_1, value_2):\r\n",
    "    return value_1 + value_2\r\n",
    "\r\n",
    "a = 1\r\n",
    "b = 2 \r\n",
    "print(double_value(a))\r\n",
    "print(add_values(a, b))"
   ],
   "outputs": [],
   "metadata": {}
  },
  {
   "cell_type": "markdown",
   "source": [
    "# Classes\r\n",
    "\r\n",
    "Classes are the data structures that have associated functions in with the varible.\r\n",
    "Classes are made using the following function"
   ],
   "metadata": {}
  },
  {
   "cell_type": "code",
   "execution_count": null,
   "source": [
    "class SampleClass:\r\n",
    "\r\n",
    "    def sampleFunction(self):\r\n",
    "        self.sample_var = 10\r\n",
    "    \r\n",
    "    def printSampleVar(self):\r\n",
    "        print(self.sample_var)\r\n"
   ],
   "outputs": [],
   "metadata": {}
  },
  {
   "cell_type": "markdown",
   "source": [
    "## Initialization\r\n",
    "\r\n",
    "You can create classes by using the following syntax"
   ],
   "metadata": {}
  },
  {
   "cell_type": "code",
   "execution_count": null,
   "source": [
    "sample_class = SampleClass()"
   ],
   "outputs": [],
   "metadata": {}
  },
  {
   "cell_type": "markdown",
   "source": [
    "You can call the function that you made within each classes with the self argument"
   ],
   "metadata": {}
  },
  {
   "cell_type": "code",
   "execution_count": null,
   "source": [
    "sample_class.sampleFunction()\r\n",
    "\r\n",
    "print(sample_class.sample_var)\r\n",
    "\r\n",
    "sample_class.printSampleVar()\r\n",
    "\r\n",
    "sample_class.sample_var = \"modified value\"\r\n",
    "\r\n",
    "sample_class.printSampleVar()"
   ],
   "outputs": [],
   "metadata": {}
  },
  {
   "cell_type": "markdown",
   "source": [
    "If you want to initialize the class differently than the default (None), you can do that by classing a special function inside the class"
   ],
   "metadata": {}
  },
  {
   "cell_type": "code",
   "execution_count": null,
   "source": [
    "class SampleClass:\r\n",
    "\r\n",
    "    def __init__(self, value):\r\n",
    "        self.sample_var = value\r\n",
    "\r\n",
    "    def sampleFunction(self):\r\n",
    "        self.sample_var = 10\r\n",
    "    \r\n",
    "    def printSampleVar(self):\r\n",
    "        print(self.sample_var)\r\n",
    "\r\n",
    "sample_class_1 = SampleClass(\"hello world\")\r\n",
    "sample_class_1.printSampleVar()\r\n"
   ],
   "outputs": [],
   "metadata": {}
  },
  {
   "cell_type": "markdown",
   "source": [
    "This is just the basics of python, but it should be enough to get started with it."
   ],
   "metadata": {}
  }
 ],
 "metadata": {
  "kernelspec": {
   "name": "python3",
   "display_name": "Python 3.8.8 64-bit ('base': conda)"
  },
  "language_info": {
   "codemirror_mode": {
    "name": "ipython",
    "version": 3
   },
   "file_extension": ".py",
   "mimetype": "text/x-python",
   "name": "python",
   "nbconvert_exporter": "python",
   "pygments_lexer": "ipython3",
   "version": "3.8.8"
  },
  "interpreter": {
   "hash": "1a4cde9bb73c55d04de7527d7a3a3f39c439aff4880db60f91e7f8e85f4df042"
  }
 },
 "nbformat": 4,
 "nbformat_minor": 5
}